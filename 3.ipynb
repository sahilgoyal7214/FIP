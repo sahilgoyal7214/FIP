{
 "cells": [
  {
   "cell_type": "markdown",
   "metadata": {},
   "source": [
    "3. Write program to perform any two operations on image.\n",
    "a) Image Translation\n",
    "b) Image Rotation\n",
    "c) Image scaling and resizing"
   ]
  },
  {
   "cell_type": "code",
   "execution_count": 1,
   "metadata": {},
   "outputs": [
    {
     "name": "stdout",
     "output_type": "stream",
     "text": [
      "[[-9.84807753e-01 -1.73648178e-01  1.43351525e+03]\n",
      " [ 1.73648178e-01 -9.84807753e-01  9.54583667e+02]]\n"
     ]
    },
    {
     "ename": "",
     "evalue": "",
     "output_type": "error",
     "traceback": [
      "\u001b[1;31mThe Kernel crashed while executing code in the the current cell or a previous cell. Please review the code in the cell(s) to identify a possible cause of the failure. Click <a href='https://aka.ms/vscodeJupyterKernelCrash'>here</a> for more info. View Jupyter <a href='command:jupyter.viewOutput'>log</a> for further details."
     ]
    }
   ],
   "source": [
    "import cv2\n",
    "import numpy as np\n",
    "\n",
    "# Read the image\n",
    "image_path = r'C:\\Users\\Suyash Tambe\\Desktop\\FIPL ESE\\20230418_102332.jpg'\n",
    "image = cv2.imread(image_path)\n",
    "\n",
    "# Image Rotation\n",
    "height, width = image.shape[:2]\n",
    "\n",
    "center = (width/2, height/2)\n",
    "\n",
    "rotate_matrix = cv2.getRotationMatrix2D(center=center, angle=190, scale=1)\n",
    "\n",
    "rotated_image = cv2.warpAffine(src=image, M=rotate_matrix, dsize=(width, height))\n",
    "# Display rotated image\n",
    "cv2.imshow('Rotated Image', rotated_image)\n",
    "\n",
    "\n",
    "# Print the rotation matrix\n",
    "print(rotate_matrix)\n"
   ]
  },
  {
   "cell_type": "code",
   "execution_count": null,
   "metadata": {},
   "outputs": [],
   "source": []
  }
 ],
 "metadata": {
  "kernelspec": {
   "display_name": "Python 3",
   "language": "python",
   "name": "python3"
  },
  "language_info": {
   "codemirror_mode": {
    "name": "ipython",
    "version": 3
   },
   "file_extension": ".py",
   "mimetype": "text/x-python",
   "name": "python",
   "nbconvert_exporter": "python",
   "pygments_lexer": "ipython3",
   "version": "3.11.6"
  }
 },
 "nbformat": 4,
 "nbformat_minor": 2
}
